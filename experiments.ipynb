{
 "cells": [
  {
   "cell_type": "code",
   "execution_count": 37,
   "metadata": {},
   "outputs": [],
   "source": [
    "import numpy as np\n",
    "import matplotlib.pyplot as plt\n",
    "\n",
    "from algorithm import SGD\n",
    "from optimizers import *\n",
    "from loss import MSE, CrossEntropyLoss\n",
    "from models import CustomLinearRegression, LogisticRegressionBC"
   ]
  },
  {
   "cell_type": "code",
   "execution_count": 38,
   "metadata": {},
   "outputs": [],
   "source": [
    "from sklearn.linear_model import LinearRegression, LogisticRegression, SGDRegressor\n",
    "from sklearn.model_selection import train_test_split\n",
    "from sklearn.preprocessing import StandardScaler\n",
    "from sklearn.metrics import r2_score, accuracy_score, roc_curve\n",
    "from sklearn.datasets import load_breast_cancer"
   ]
  },
  {
   "cell_type": "code",
   "execution_count": 39,
   "metadata": {},
   "outputs": [],
   "source": [
    "import warnings\n",
    "warnings.filterwarnings(\"ignore\")"
   ]
  },
  {
   "cell_type": "markdown",
   "metadata": {},
   "source": [
    "# Linear Regression on Real Estate Dataset"
   ]
  },
  {
   "cell_type": "code",
   "execution_count": 40,
   "metadata": {},
   "outputs": [
    {
     "data": {
      "text/html": [
       "<div>\n",
       "<style scoped>\n",
       "    .dataframe tbody tr th:only-of-type {\n",
       "        vertical-align: middle;\n",
       "    }\n",
       "\n",
       "    .dataframe tbody tr th {\n",
       "        vertical-align: top;\n",
       "    }\n",
       "\n",
       "    .dataframe thead th {\n",
       "        text-align: right;\n",
       "    }\n",
       "</style>\n",
       "<table border=\"1\" class=\"dataframe\">\n",
       "  <thead>\n",
       "    <tr style=\"text-align: right;\">\n",
       "      <th></th>\n",
       "      <th>X1 transaction date</th>\n",
       "      <th>X2 house age</th>\n",
       "      <th>X3 distance to the nearest MRT station</th>\n",
       "      <th>X4 number of convenience stores</th>\n",
       "      <th>X5 latitude</th>\n",
       "      <th>X6 longitude</th>\n",
       "      <th>Y house price of unit area</th>\n",
       "    </tr>\n",
       "    <tr>\n",
       "      <th>No</th>\n",
       "      <th></th>\n",
       "      <th></th>\n",
       "      <th></th>\n",
       "      <th></th>\n",
       "      <th></th>\n",
       "      <th></th>\n",
       "      <th></th>\n",
       "    </tr>\n",
       "  </thead>\n",
       "  <tbody>\n",
       "    <tr>\n",
       "      <th>1</th>\n",
       "      <td>2012.917</td>\n",
       "      <td>32.0</td>\n",
       "      <td>84.87882</td>\n",
       "      <td>10</td>\n",
       "      <td>24.98298</td>\n",
       "      <td>121.54024</td>\n",
       "      <td>37.9</td>\n",
       "    </tr>\n",
       "    <tr>\n",
       "      <th>2</th>\n",
       "      <td>2012.917</td>\n",
       "      <td>19.5</td>\n",
       "      <td>306.59470</td>\n",
       "      <td>9</td>\n",
       "      <td>24.98034</td>\n",
       "      <td>121.53951</td>\n",
       "      <td>42.2</td>\n",
       "    </tr>\n",
       "    <tr>\n",
       "      <th>3</th>\n",
       "      <td>2013.583</td>\n",
       "      <td>13.3</td>\n",
       "      <td>561.98450</td>\n",
       "      <td>5</td>\n",
       "      <td>24.98746</td>\n",
       "      <td>121.54391</td>\n",
       "      <td>47.3</td>\n",
       "    </tr>\n",
       "  </tbody>\n",
       "</table>\n",
       "</div>"
      ],
      "text/plain": [
       "    X1 transaction date  X2 house age  X3 distance to the nearest MRT station  \\\n",
       "No                                                                              \n",
       "1              2012.917          32.0                                84.87882   \n",
       "2              2012.917          19.5                               306.59470   \n",
       "3              2013.583          13.3                               561.98450   \n",
       "\n",
       "    X4 number of convenience stores  X5 latitude  X6 longitude  \\\n",
       "No                                                               \n",
       "1                                10     24.98298     121.54024   \n",
       "2                                 9     24.98034     121.53951   \n",
       "3                                 5     24.98746     121.54391   \n",
       "\n",
       "    Y house price of unit area  \n",
       "No                              \n",
       "1                         37.9  \n",
       "2                         42.2  \n",
       "3                         47.3  "
      ]
     },
     "execution_count": 40,
     "metadata": {},
     "output_type": "execute_result"
    }
   ],
   "source": [
    "import pandas as pd\n",
    "\n",
    "data = pd.read_csv(\"Realestate.csv\", index_col=0)\n",
    "data.head(3)"
   ]
  },
  {
   "cell_type": "code",
   "execution_count": 41,
   "metadata": {},
   "outputs": [
    {
     "data": {
      "text/plain": [
       "((414, 6), (414,))"
      ]
     },
     "execution_count": 41,
     "metadata": {},
     "output_type": "execute_result"
    }
   ],
   "source": [
    "# Split data on features and target\n",
    "\n",
    "target_col = \"Y house price of unit area\"\n",
    "\n",
    "y = data[target_col].to_numpy()\n",
    "X = data.drop(columns=[target_col]).to_numpy()\n",
    "\n",
    "X.shape, y.shape"
   ]
  },
  {
   "cell_type": "code",
   "execution_count": 207,
   "metadata": {},
   "outputs": [
    {
     "data": {
      "text/plain": [
       "(372,\n",
       " 42,\n",
       " array([2013.15345968,   17.67930108, 1109.38861022,    4.0483871 ,\n",
       "          24.96902995,  121.53292599]),\n",
       " array([2.80966699e-01, 1.12748949e+01, 1.28172139e+03, 2.94260922e+00,\n",
       "        1.25424518e-02, 1.54887148e-02]))"
      ]
     },
     "execution_count": 207,
     "metadata": {},
     "output_type": "execute_result"
    }
   ],
   "source": [
    "# Train-test split and standartize data with StandartScaler\n",
    "\n",
    "# X_train, X_test, y_train, y_test = train_test_split(X, y, test_size=0.1, random_state=42)\n",
    "X_train, X_test, y_train, y_test = train_test_split(X, y, test_size=0.1, random_state=100)\n",
    "\n",
    "scaler = StandardScaler() \n",
    "\n",
    "X_train = scaler.fit_transform(X_train)\n",
    "X_test = scaler.transform(X_test)\n",
    "\n",
    "y_offset = y_train.mean()\n",
    "y_train -= y_offset\n",
    "y_test -= y_offset\n",
    "\n",
    "len(y_train), len(y_test), scaler.mean_, scaler.scale_"
   ]
  },
  {
   "cell_type": "code",
   "execution_count": 208,
   "metadata": {},
   "outputs": [],
   "source": [
    "mse = MSE()"
   ]
  },
  {
   "cell_type": "code",
   "execution_count": 213,
   "metadata": {},
   "outputs": [
    {
     "name": "stdout",
     "output_type": "stream",
     "text": [
      "Sklearn model mse = 38.598247910237994, r2_score = 0.7470218557987665\n",
      "Inner way to compute r2 = 0.7470218557987665\n"
     ]
    }
   ],
   "source": [
    "# Apply sklearn model\n",
    "\n",
    "lm = LinearRegression()\n",
    "\n",
    "lm.fit(X_train, y_train)\n",
    "\n",
    "base_preds = lm.predict(X_test)\n",
    "\n",
    "base_mse_score = mse.compute(base_preds, y_test)\n",
    "base_r2_score = r2_score(y_test, base_preds)\n",
    "print(f\"Sklearn model mse = {base_mse_score}, r2_score = {base_r2_score}\")\n",
    "\n",
    "## Another way to compute r2 score\n",
    "print(f\"Inner way to compute r2 = {lm.score(X_test, y_test)}\")"
   ]
  },
  {
   "cell_type": "code",
   "execution_count": 214,
   "metadata": {},
   "outputs": [
    {
     "name": "stdout",
     "output_type": "stream",
     "text": [
      "Sklearn model mse = 38.6329614833679, r2_score = 0.7467943383391806\n",
      "Inner way to compute r2 = 0.7467943383391806\n"
     ]
    }
   ],
   "source": [
    "## Apply another SGD sklearn linear model \n",
    "lm = SGDRegressor(alpha=1e-4, max_iter=int(1e5), penalty=None, tol=1e-5, epsilon=1e-5, n_iter_no_change=20)\n",
    "\n",
    "lm.fit(X_train, y_train)\n",
    "\n",
    "base_preds = lm.predict(X_test)\n",
    "\n",
    "base_mse_score = mse.compute(base_preds, y_test)\n",
    "base_r2_score = r2_score(y_test, base_preds)\n",
    "print(f\"Sklearn model mse = {base_mse_score}, r2_score = {base_r2_score}\")\n",
    "\n",
    "## Another way to compute r2 score\n",
    "print(f\"Inner way to compute r2 = {lm.score(X_test, y_test)}\")"
   ]
  },
  {
   "cell_type": "code",
   "execution_count": 215,
   "metadata": {},
   "outputs": [
    {
     "name": "stdout",
     "output_type": "stream",
     "text": [
      "My model mse = 38.24, r2 = 0.75\n"
     ]
    },
    {
     "data": {
      "image/png": "[encoded data removed]",
      "text/plain": [
       "<Figure size 640x480 with 1 Axes>"
      ]
     },
     "metadata": {},
     "output_type": "display_data"
    }
   ],
   "source": [
    "# Init My model and optimizer\n",
    "my_lm = CustomLinearRegression(6)\n",
    "\n",
    "opt = Adam()\n",
    "opt.set_learning_params(my_lm.weights)\n",
    "\n",
    "# Apply My custom Linear Regression\n",
    "\n",
    "loss_history = SGD(X_train, y_train, my_lm, mse, opt=opt, \n",
    "                   batch_size=20, \n",
    "                   n_epochs=1000)\n",
    "\n",
    "\n",
    "my_preds = my_lm.predict(X_test)\n",
    "base_mse_score = mse.compute(my_preds, y_test)\n",
    "base_r2_score = r2_score(y_test, my_preds)\n",
    "\n",
    "print(f\"My model mse = {base_mse_score:.2f}, r2 = {base_r2_score :.2f}\")\n",
    "\n",
    "smoothed_loss_history = [np.mean(loss_history[step - 100: step]) for step in range(len(loss_history))]\n",
    "plt.plot(smoothed_loss_history)\n",
    "plt.show()"
   ]
  },
  {
   "cell_type": "markdown",
   "metadata": {},
   "source": [
    "# Logistic Regression"
   ]
  },
  {
   "cell_type": "code",
   "execution_count": 11,
   "metadata": {},
   "outputs": [],
   "source": [
    "def plot_roc_curve(y_target, y_pred_prob):\n",
    "    fpr, tpr, thresholds = roc_curve(y_test, y_pred_prob) \n",
    "    plt.figure()  \n",
    "    plt.plot(fpr, tpr)\n",
    "    plt.plot([0, 1], [0, 1], 'k--')\n",
    "    plt.xlim([0.0, 1.0])\n",
    "    plt.ylim([0.0, 1.05])\n",
    "    plt.xlabel('False Positive Rate')\n",
    "    plt.ylabel('True Positive Rate')\n",
    "    plt.title('ROC Curve')\n",
    "    plt.legend()\n",
    "    plt.show()"
   ]
  },
  {
   "cell_type": "code",
   "execution_count": 12,
   "metadata": {},
   "outputs": [
    {
     "data": {
      "text/plain": [
       "((455, 30), (114, 30))"
      ]
     },
     "execution_count": 12,
     "metadata": {},
     "output_type": "execute_result"
    }
   ],
   "source": [
    "# Load dataset split and apply scaler\n",
    "\n",
    "X, y = load_breast_cancer(return_X_y=True)\n",
    "\n",
    "X_train, X_test, y_train, y_test = train_test_split(X, y,\n",
    "                                      test_size=0.20,\n",
    "                                      random_state=23)\n",
    "\n",
    "scaler = StandardScaler()\n",
    "\n",
    "X_train = scaler.fit_transform(X_train)\n",
    "X_test = scaler.transform(X_test)\n",
    "\n",
    "X_train.shape, X_test.shape"
   ]
  },
  {
   "cell_type": "code",
   "execution_count": 13,
   "metadata": {},
   "outputs": [
    {
     "name": "stdout",
     "output_type": "stream",
     "text": [
      "Sklearn Logistic Regression model accuracy = 98.25%\n"
     ]
    }
   ],
   "source": [
    "# Apply sklearn model\n",
    "\n",
    "clf = LogisticRegression(fit_intercept=False)\n",
    "clf.fit(X_train, y_train)\n",
    "\n",
    "y_pred = clf.predict(X_test)\n",
    "\n",
    "acc = accuracy_score(y_test, y_pred)\n",
    "print(f\"Sklearn Logistic Regression model accuracy = {acc * 100:.2f}%\")"
   ]
  },
  {
   "cell_type": "code",
   "execution_count": 14,
   "metadata": {},
   "outputs": [],
   "source": [
    "# Init my logistic regression, optimizer and loss function\n",
    "\n",
    "my_clf = LogisticRegressionBC(30)\n",
    "\n",
    "opt = Adam()\n",
    "opt.set_learning_params(my_clf.weights)\n",
    "\n",
    "ce_loss = CrossEntropyLoss()\n"
   ]
  },
  {
   "cell_type": "code",
   "execution_count": 15,
   "metadata": {},
   "outputs": [
    {
     "name": "stdout",
     "output_type": "stream",
     "text": [
      "My Logistic Regression model accuracy = 98.25%\n"
     ]
    },
    {
     "data": {
      "image/png": "[encoded data removed]",
      "text/plain": [
       "<Figure size 640x480 with 1 Axes>"
      ]
     },
     "metadata": {},
     "output_type": "display_data"
    },
    {
     "data": {
      "image/png": "[encoded data removed]",
      "text/plain": [
       "<Figure size 640x480 with 1 Axes>"
      ]
     },
     "metadata": {},
     "output_type": "display_data"
    }
   ],
   "source": [
    "loss_history = SGD(X_train, y_train, my_clf, ce_loss, opt=opt, \n",
    "                      batch_size=20, \n",
    "                      n_epochs=200\n",
    "                  )\n",
    "\n",
    "\n",
    "probas = my_clf.predict(X_test)\n",
    "my_preds = probas > 0.5\n",
    "accuracy = accuracy_score(y_test, my_preds)\n",
    "\n",
    "print(f\"My Logistic Regression model accuracy = {(accuracy * 100):.2f}%\")\n",
    "\n",
    "plot_roc_curve(y_test, probas)\n",
    "\n",
    "smoothed_loss_history = [np.mean(loss_history[step - 100: step]) for step in range(len(loss_history))]\n",
    "plt.plot(smoothed_loss_history)\n",
    "plt.xlabel(\"Iteration\")\n",
    "plt.ylabel(\"Loss Value\")\n",
    "plt.title(\"Smoothed Cross entropy loss\")\n",
    "plt.show()"
   ]
  }
 ],
 "metadata": {
  "kernelspec": {
   "display_name": ".venv",
   "language": "python",
   "name": "python3"
  },
  "language_info": {
   "codemirror_mode": {
    "name": "ipython",
    "version": 3
   },
   "file_extension": ".py",
   "mimetype": "text/x-python",
   "name": "python",
   "nbconvert_exporter": "python",
   "pygments_lexer": "ipython3",
   "version": "3.12.6"
  }
 },
 "nbformat": 4,
 "nbformat_minor": 2
}
